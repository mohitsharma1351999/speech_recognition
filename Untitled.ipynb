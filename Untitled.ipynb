{
 "cells": [
  {
   "cell_type": "code",
   "execution_count": 1,
   "metadata": {},
   "outputs": [
    {
     "name": "stderr",
     "output_type": "stream",
     "text": [
      "Using TensorFlow backend.\n",
      "/root/.local/lib/python3.7/site-packages/tensorflow/python/framework/dtypes.py:516: FutureWarning: Passing (type, 1) or '1type' as a synonym of type is deprecated; in a future version of numpy, it will be understood as (type, (1,)) / '(1,)type'.\n",
      "  _np_qint8 = np.dtype([(\"qint8\", np.int8, 1)])\n",
      "/root/.local/lib/python3.7/site-packages/tensorflow/python/framework/dtypes.py:517: FutureWarning: Passing (type, 1) or '1type' as a synonym of type is deprecated; in a future version of numpy, it will be understood as (type, (1,)) / '(1,)type'.\n",
      "  _np_quint8 = np.dtype([(\"quint8\", np.uint8, 1)])\n",
      "/root/.local/lib/python3.7/site-packages/tensorflow/python/framework/dtypes.py:518: FutureWarning: Passing (type, 1) or '1type' as a synonym of type is deprecated; in a future version of numpy, it will be understood as (type, (1,)) / '(1,)type'.\n",
      "  _np_qint16 = np.dtype([(\"qint16\", np.int16, 1)])\n",
      "/root/.local/lib/python3.7/site-packages/tensorflow/python/framework/dtypes.py:519: FutureWarning: Passing (type, 1) or '1type' as a synonym of type is deprecated; in a future version of numpy, it will be understood as (type, (1,)) / '(1,)type'.\n",
      "  _np_quint16 = np.dtype([(\"quint16\", np.uint16, 1)])\n",
      "/root/.local/lib/python3.7/site-packages/tensorflow/python/framework/dtypes.py:520: FutureWarning: Passing (type, 1) or '1type' as a synonym of type is deprecated; in a future version of numpy, it will be understood as (type, (1,)) / '(1,)type'.\n",
      "  _np_qint32 = np.dtype([(\"qint32\", np.int32, 1)])\n",
      "/root/.local/lib/python3.7/site-packages/tensorflow/python/framework/dtypes.py:525: FutureWarning: Passing (type, 1) or '1type' as a synonym of type is deprecated; in a future version of numpy, it will be understood as (type, (1,)) / '(1,)type'.\n",
      "  np_resource = np.dtype([(\"resource\", np.ubyte, 1)])\n",
      "/root/.local/lib/python3.7/site-packages/tensorboard/compat/tensorflow_stub/dtypes.py:541: FutureWarning: Passing (type, 1) or '1type' as a synonym of type is deprecated; in a future version of numpy, it will be understood as (type, (1,)) / '(1,)type'.\n",
      "  _np_qint8 = np.dtype([(\"qint8\", np.int8, 1)])\n",
      "/root/.local/lib/python3.7/site-packages/tensorboard/compat/tensorflow_stub/dtypes.py:542: FutureWarning: Passing (type, 1) or '1type' as a synonym of type is deprecated; in a future version of numpy, it will be understood as (type, (1,)) / '(1,)type'.\n",
      "  _np_quint8 = np.dtype([(\"quint8\", np.uint8, 1)])\n",
      "/root/.local/lib/python3.7/site-packages/tensorboard/compat/tensorflow_stub/dtypes.py:543: FutureWarning: Passing (type, 1) or '1type' as a synonym of type is deprecated; in a future version of numpy, it will be understood as (type, (1,)) / '(1,)type'.\n",
      "  _np_qint16 = np.dtype([(\"qint16\", np.int16, 1)])\n",
      "/root/.local/lib/python3.7/site-packages/tensorboard/compat/tensorflow_stub/dtypes.py:544: FutureWarning: Passing (type, 1) or '1type' as a synonym of type is deprecated; in a future version of numpy, it will be understood as (type, (1,)) / '(1,)type'.\n",
      "  _np_quint16 = np.dtype([(\"quint16\", np.uint16, 1)])\n",
      "/root/.local/lib/python3.7/site-packages/tensorboard/compat/tensorflow_stub/dtypes.py:545: FutureWarning: Passing (type, 1) or '1type' as a synonym of type is deprecated; in a future version of numpy, it will be understood as (type, (1,)) / '(1,)type'.\n",
      "  _np_qint32 = np.dtype([(\"qint32\", np.int32, 1)])\n",
      "/root/.local/lib/python3.7/site-packages/tensorboard/compat/tensorflow_stub/dtypes.py:550: FutureWarning: Passing (type, 1) or '1type' as a synonym of type is deprecated; in a future version of numpy, it will be understood as (type, (1,)) / '(1,)type'.\n",
      "  np_resource = np.dtype([(\"resource\", np.ubyte, 1)])\n"
     ]
    }
   ],
   "source": [
    "import numpy as np\n",
    "from sklearn.model_selection import train_test_split\n",
    "from keras.models import Sequential\n",
    "from keras.layers import Dense\n",
    "from tensorflow.keras.utils import to_categorical"
   ]
  },
  {
   "cell_type": "code",
   "execution_count": 2,
   "metadata": {},
   "outputs": [
    {
     "data": {
      "text/plain": [
       "(1103,)"
      ]
     },
     "execution_count": 2,
     "metadata": {},
     "output_type": "execute_result"
    }
   ],
   "source": [
    "arr = np.load('dev.npy', allow_pickle=True, encoding='bytes')\n",
    "arr.shape"
   ]
  },
  {
   "cell_type": "code",
   "execution_count": 3,
   "metadata": {},
   "outputs": [
    {
     "data": {
      "text/plain": [
       "array([108, 109, 110,  45,  46,  47,  24,  25,  26,  57,  58,  59,  59,\n",
       "        69,  69,  69,  70,  70,  70,  70,  71,  71,  71,  71,  81,  82,\n",
       "        83,  54,  54,  55,  56,  78,  78,  78,  78,  78,  79,  80,  80,\n",
       "        96,  96,  97,  97,  97,  98,  98,  98,  98,  98,  99, 100, 101,\n",
       "        24,  25,  26,  42,  43,  44,  44, 120, 120, 121, 121, 121, 122,\n",
       "       102, 102, 102, 102, 103, 103, 103, 103, 104, 104, 104,  66,  66,\n",
       "        67,  68, 132, 132, 132, 132, 133, 133, 134, 134,  24,  24,  25,\n",
       "        25,  26,  78,  78,  78,  78,  79,  79,  79,  79,  79,  80,  80,\n",
       "        80,  66,  67,  68, 111, 112, 113,  51,  51,  52,  52,  52,  52,\n",
       "        52,  52,  52,  52,  52,  53,  24,  25,  26, 123, 124, 125, 125,\n",
       "       125, 125, 111, 111, 112, 112, 112, 112, 112, 113, 113, 113, 113,\n",
       "       113, 120, 120, 121, 121, 121, 121, 121, 121, 122, 111, 111, 111,\n",
       "       111, 112, 112, 112, 113, 113, 113, 113,  66,  67,  68,  68,  57,\n",
       "        57,  57,  58,  58,  58,  58,  58,  59,  59,  27,  27,  27,  28,\n",
       "        28,  28,  29,  29,  29,  99, 100, 100, 100, 101, 129, 129, 129,\n",
       "       129, 130, 130, 130, 131, 131, 131, 131, 131,  24,  25,  25,  25,\n",
       "        25,  25,  25,  25,  26,  87,  88,  88,  88,  88,  89,  66,  67,\n",
       "        67,  67,  67,  67,  68,  84,  84,  85,  85,  85,  86,  84,  85,\n",
       "        86,  86,  90,  90,  90,  91,  91,  91,  91,  92, 123, 123, 124,\n",
       "       124, 125, 125, 125,  48,  48,  49,  49,  49,  49,  50,  50,  81,\n",
       "        81,  81,  82,  82,  82,  83,  36,  37,  38,  38,  51,  51,  52,\n",
       "        52,  52,  52,  52,  52,  52,  52,  53,  21,  22,  22,  22,  23,\n",
       "        84,  84,  85,  86,  42,  43,  44,  42,  43,  44,  44,  44,  66,\n",
       "        67,  68, 102, 102, 102, 103, 103, 103, 103, 103, 103, 103, 104,\n",
       "       104, 104,  48,  48,  48,  49,  49,  49,  49,  50,  81,  81,  81,\n",
       "        81,  82,  82,  83,  36,  37,  37,  38,  51,  51,  51,  52,  52,\n",
       "        52,  52,  52,  52,  52,  52,  53,  53,   0,   0,   0,   0,   1,\n",
       "         1,   1,   1,   2,   2,   2,   2, 108, 108, 108, 108, 108, 108,\n",
       "       108, 108, 108, 108, 108, 108, 108, 108, 108, 108, 108, 108, 108,\n",
       "       108, 108, 108, 108, 108, 108, 109, 109, 109, 109, 110])"
      ]
     },
     "execution_count": 3,
     "metadata": {},
     "output_type": "execute_result"
    }
   ],
   "source": [
    "arr_label=np.load(\"dev_labels.npy\", allow_pickle=True, encoding='bytes')\n",
    "arr_label[0]"
   ]
  },
  {
   "cell_type": "code",
   "execution_count": 4,
   "metadata": {},
   "outputs": [
    {
     "data": {
      "text/plain": [
       "669294"
      ]
     },
     "execution_count": 4,
     "metadata": {},
     "output_type": "execute_result"
    }
   ],
   "source": [
    "s=0\n",
    "for i in range(0,arr.shape[0]):\n",
    "    s = s+arr[i].shape[0]\n",
    "s"
   ]
  },
  {
   "cell_type": "code",
   "execution_count": 5,
   "metadata": {},
   "outputs": [
    {
     "data": {
      "text/plain": [
       "(669294, 40)"
      ]
     },
     "execution_count": 5,
     "metadata": {},
     "output_type": "execute_result"
    }
   ],
   "source": [
    "stack_arr=np.full([1,40],None)   \n",
    "for i in range(0,arr.shape[0]):\n",
    "    stack_arr=np.vstack((stack_arr,arr[i]))\n",
    "\n",
    "stack_arr=stack_arr[1:s+1] \n",
    "stack_arr.shape"
   ]
  },
  {
   "cell_type": "code",
   "execution_count": 6,
   "metadata": {},
   "outputs": [
    {
     "data": {
      "text/plain": [
       "(669294, 1)"
      ]
     },
     "execution_count": 6,
     "metadata": {},
     "output_type": "execute_result"
    }
   ],
   "source": [
    "stack_arr_label=np.full([1,1],None)    \n",
    "for i in range(0,arr_label.shape[0]):\n",
    "    stack_arr_label=np.vstack((stack_arr_label,arr_label[i].reshape(-1,1)))\n",
    "stack_arr_label=stack_arr_label[1:s+1]\n",
    "stack_arr_label.shape"
   ]
  },
  {
   "cell_type": "code",
   "execution_count": 7,
   "metadata": {},
   "outputs": [
    {
     "data": {
      "text/plain": [
       "(669294,)"
      ]
     },
     "execution_count": 7,
     "metadata": {},
     "output_type": "execute_result"
    }
   ],
   "source": [
    "final_label = []\n",
    "for label in stack_arr_label:\n",
    "    final_label.append(label[0])\n",
    "final_label = np.array(final_label)\n",
    "final_label.shape"
   ]
  },
  {
   "cell_type": "code",
   "execution_count": 8,
   "metadata": {},
   "outputs": [
    {
     "data": {
      "text/plain": [
       "((468505, 40), (468505, 138), (200789, 40), (200789, 138))"
      ]
     },
     "execution_count": 8,
     "metadata": {},
     "output_type": "execute_result"
    }
   ],
   "source": [
    "x_train, x_test, y_train, y_test = train_test_split(stack_arr,final_label, test_size=0.30, random_state=42)\n",
    "y_train = to_categorical(y_train)\n",
    "y_test = to_categorical(y_test)\n",
    "x_train.shape, y_train.shape, x_test.shape, y_test.shape"
   ]
  },
  {
   "cell_type": "code",
   "execution_count": 9,
   "metadata": {},
   "outputs": [
    {
     "name": "stdout",
     "output_type": "stream",
     "text": [
      "WARNING:tensorflow:From /root/.local/lib/python3.7/site-packages/tensorflow/python/ops/math_grad.py:1250: add_dispatch_support.<locals>.wrapper (from tensorflow.python.ops.array_ops) is deprecated and will be removed in a future version.\n",
      "Instructions for updating:\n",
      "Use tf.where in 2.0, which has the same broadcast rule as np.where\n",
      "WARNING:tensorflow:From /usr/local/lib/python3.7/dist-packages/keras/backend/tensorflow_backend.py:422: The name tf.global_variables is deprecated. Please use tf.compat.v1.global_variables instead.\n",
      "\n",
      "Epoch 1/5\n",
      "468505/468505 [==============================] - 20s 43us/step - loss: 0.0306 - accuracy: 0.9927\n",
      "Epoch 2/5\n",
      "468505/468505 [==============================] - 21s 46us/step - loss: 0.0279 - accuracy: 0.9928\n",
      "Epoch 3/5\n",
      "468505/468505 [==============================] - 23s 49us/step - loss: 0.0272 - accuracy: 0.9929\n",
      "Epoch 4/5\n",
      "468505/468505 [==============================] - 24s 52us/step - loss: 0.0268 - accuracy: 0.9929\n",
      "Epoch 5/5\n",
      "468505/468505 [==============================] - 22s 47us/step - loss: 0.0264 - accuracy: 0.9929\n"
     ]
    },
    {
     "data": {
      "text/plain": [
       "<keras.callbacks.callbacks.History at 0x7f68f4745d50>"
      ]
     },
     "execution_count": 9,
     "metadata": {},
     "output_type": "execute_result"
    }
   ],
   "source": [
    "x_train = np.asarray(x_train).astype(np.float32)\n",
    "y_train = np.asarray(y_train).astype(np.float32)\n",
    "\n",
    "\n",
    "model = Sequential()\n",
    "model.add(Dense(640, input_dim=40, activation='relu'))\n",
    "model.add(Dense(320, activation='relu'))\n",
    "model.add(Dense(138, activation='softmax'))\n",
    "model.compile(loss='binary_crossentropy', optimizer='adam', metrics=['accuracy'])\n",
    "model.fit(x_train, y_train, epochs=5, batch_size=500)"
   ]
  }
 ],
 "metadata": {
  "kernelspec": {
   "display_name": "Python 3",
   "language": "python",
   "name": "python3"
  },
  "language_info": {
   "codemirror_mode": {
    "name": "ipython",
    "version": 3
   },
   "file_extension": ".py",
   "mimetype": "text/x-python",
   "name": "python",
   "nbconvert_exporter": "python",
   "pygments_lexer": "ipython3",
   "version": "3.7.5"
  }
 },
 "nbformat": 4,
 "nbformat_minor": 4
}
